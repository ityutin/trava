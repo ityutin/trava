{
 "cells": [
  {
   "cell_type": "code",
   "execution_count": 1,
   "metadata": {},
   "outputs": [],
   "source": [
    "import sys\n",
    "sys.path.append('../')\n",
    "\n",
    "import pandas as pd\n",
    "import numpy as np\n",
    "\n",
    "from sklearn import datasets"
   ]
  },
  {
   "cell_type": "markdown",
   "metadata": {},
   "source": [
    "This notebook contains a demonstration how evaluation of boosting model with early-stopping can be set up in **Trava**."
   ]
  },
  {
   "cell_type": "markdown",
   "metadata": {},
   "source": [
    "### Get data"
   ]
  },
  {
   "cell_type": "code",
   "execution_count": 2,
   "metadata": {},
   "outputs": [],
   "source": [
    "dataset = datasets.load_breast_cancer()\n",
    "df = pd.DataFrame(dataset['data'], columns=dataset['feature_names'])\n",
    "df['target'] = dataset['target']"
   ]
  },
  {
   "cell_type": "markdown",
   "metadata": {},
   "source": [
    "### Setup scorers & results handlers"
   ]
  },
  {
   "cell_type": "code",
   "execution_count": 3,
   "metadata": {},
   "outputs": [],
   "source": [
    "from sklearn.metrics import log_loss, roc_curve, roc_auc_score, recall_score, precision_score\n",
    "from trava.ext.sklearn.scorers import sk, sk_proba\n",
    "from trava.ext.results_handlers.metrics_dict import MetricsDictHandler\n",
    "\n",
    "output_scorers = [\n",
    "    sk_proba(log_loss),\n",
    "    sk_proba(roc_auc_score),\n",
    "    sk(recall_score),\n",
    "    sk(precision_score)\n",
    "]\n",
    "output_handler = MetricsDictHandler(scorers=output_scorers)"
   ]
  },
  {
   "cell_type": "markdown",
   "metadata": {},
   "source": [
    "### Split the data"
   ]
  },
  {
   "cell_type": "code",
   "execution_count": 4,
   "metadata": {},
   "outputs": [],
   "source": [
    "from trava.ext.split_logic.basic import BasicSplitLogic\n",
    "from trava.split.config import DataSplitConfig, SplitResultHandler\n",
    "from trava.split.result import SplitResult\n",
    "from trava.split.splitter import Splitter\n",
    "\n",
    "split_config = DataSplitConfig(split_logic=BasicSplitLogic(shuffle=True),\n",
    "                               target_col_name='target',\n",
    "                               test_size=0.3,\n",
    "                               valid_size=0.2) # validation set will be used as eval_set\n",
    "\n",
    "split_result = Splitter.split(df=df, config=split_config)"
   ]
  },
  {
   "cell_type": "markdown",
   "metadata": {},
   "source": [
    "### Setup Trava"
   ]
  },
  {
   "cell_type": "code",
   "execution_count": 5,
   "metadata": {},
   "outputs": [],
   "source": [
    "from trava.trava_sv import TravaSV\n",
    "\n",
    "trava = TravaSV(results_handlers=[output_handler])"
   ]
  },
  {
   "cell_type": "markdown",
   "metadata": {},
   "source": [
    "### Playing with boosting evaluation"
   ]
  },
  {
   "cell_type": "markdown",
   "metadata": {},
   "source": [
    "**EvalFitPredictor** is obviously a **FitPredictor** subclass. It sets up model's parameters for you by using provided eval_metric and number of early-stopping rounds. validation set from split_result will be used as eval_set. **EvalFitPredictor** also expects **EvalLogic** subclass for a particular model, since they work slightly different."
   ]
  },
  {
   "cell_type": "code",
   "execution_count": 6,
   "metadata": {},
   "outputs": [],
   "source": [
    "from trava.ext.boosting_eval.eval_steps import EvalFitSteps\n",
    "from trava.fit_predictor import FitPredictor\n",
    "\n",
    "eval_rounds = 3"
   ]
  },
  {
   "cell_type": "code",
   "execution_count": 7,
   "metadata": {},
   "outputs": [
    {
     "name": "stdout",
     "output_type": "stream",
     "text": [
      "[0]\tvalidation_0-logloss:0.608689\tvalidation_1-logloss:0.616602\n",
      "Multiple eval metrics have been passed: 'validation_1-logloss' will be used for early stopping.\n",
      "\n",
      "Will train until validation_1-logloss hasn't improved in 3 rounds.\n",
      "[1]\tvalidation_0-logloss:0.54008\tvalidation_1-logloss:0.557532\n",
      "[2]\tvalidation_0-logloss:0.48158\tvalidation_1-logloss:0.507513\n",
      "[3]\tvalidation_0-logloss:0.43025\tvalidation_1-logloss:0.464426\n",
      "[4]\tvalidation_0-logloss:0.38727\tvalidation_1-logloss:0.426248\n",
      "[5]\tvalidation_0-logloss:0.349085\tvalidation_1-logloss:0.395854\n",
      "[6]\tvalidation_0-logloss:0.315964\tvalidation_1-logloss:0.369723\n",
      "[7]\tvalidation_0-logloss:0.287502\tvalidation_1-logloss:0.349384\n",
      "[8]\tvalidation_0-logloss:0.261876\tvalidation_1-logloss:0.33009\n",
      "[9]\tvalidation_0-logloss:0.2392\tvalidation_1-logloss:0.311707\n",
      "[10]\tvalidation_0-logloss:0.218914\tvalidation_1-logloss:0.298211\n",
      "[11]\tvalidation_0-logloss:0.200869\tvalidation_1-logloss:0.282844\n",
      "[12]\tvalidation_0-logloss:0.182902\tvalidation_1-logloss:0.269896\n",
      "[13]\tvalidation_0-logloss:0.168625\tvalidation_1-logloss:0.258447\n",
      "[14]\tvalidation_0-logloss:0.155684\tvalidation_1-logloss:0.249129\n",
      "[15]\tvalidation_0-logloss:0.142533\tvalidation_1-logloss:0.241014\n",
      "[16]\tvalidation_0-logloss:0.131886\tvalidation_1-logloss:0.233959\n",
      "[17]\tvalidation_0-logloss:0.122392\tvalidation_1-logloss:0.229142\n",
      "[18]\tvalidation_0-logloss:0.112588\tvalidation_1-logloss:0.224227\n",
      "[19]\tvalidation_0-logloss:0.104725\tvalidation_1-logloss:0.216339\n",
      "[20]\tvalidation_0-logloss:0.097672\tvalidation_1-logloss:0.212147\n",
      "[21]\tvalidation_0-logloss:0.090758\tvalidation_1-logloss:0.208409\n",
      "[22]\tvalidation_0-logloss:0.083969\tvalidation_1-logloss:0.205918\n",
      "[23]\tvalidation_0-logloss:0.077854\tvalidation_1-logloss:0.203648\n",
      "[24]\tvalidation_0-logloss:0.072964\tvalidation_1-logloss:0.198593\n",
      "[25]\tvalidation_0-logloss:0.068693\tvalidation_1-logloss:0.199241\n",
      "[26]\tvalidation_0-logloss:0.064111\tvalidation_1-logloss:0.196558\n",
      "[27]\tvalidation_0-logloss:0.060568\tvalidation_1-logloss:0.195455\n",
      "[28]\tvalidation_0-logloss:0.056959\tvalidation_1-logloss:0.192115\n",
      "[29]\tvalidation_0-logloss:0.053709\tvalidation_1-logloss:0.191435\n",
      "[30]\tvalidation_0-logloss:0.050838\tvalidation_1-logloss:0.188961\n",
      "[31]\tvalidation_0-logloss:0.048071\tvalidation_1-logloss:0.189783\n",
      "[32]\tvalidation_0-logloss:0.045399\tvalidation_1-logloss:0.189557\n",
      "[33]\tvalidation_0-logloss:0.04319\tvalidation_1-logloss:0.187436\n",
      "[34]\tvalidation_0-logloss:0.041143\tvalidation_1-logloss:0.186364\n",
      "[35]\tvalidation_0-logloss:0.039278\tvalidation_1-logloss:0.185082\n",
      "[36]\tvalidation_0-logloss:0.037578\tvalidation_1-logloss:0.183875\n",
      "[37]\tvalidation_0-logloss:0.035879\tvalidation_1-logloss:0.183882\n",
      "[38]\tvalidation_0-logloss:0.034257\tvalidation_1-logloss:0.184738\n",
      "[39]\tvalidation_0-logloss:0.032717\tvalidation_1-logloss:0.184763\n",
      "Stopping. Best iteration:\n",
      "[36]\tvalidation_0-logloss:0.037578\tvalidation_1-logloss:0.183875\n",
      "\n"
     ]
    },
    {
     "data": {
      "image/png": "[encoded data removed]",
      "text/plain": [
       "<Figure size 432x288 with 1 Axes>"
      ]
     },
     "metadata": {
      "needs_background": "light"
     },
     "output_type": "display_data"
    },
    {
     "data": {
      "text/plain": [
       "[{'xgb': {'test': {'log_loss': 0.046362519260127466,\n",
       "    'roc_auc_score': 0.9995080555897184,\n",
       "    'recall_score': 1.0,\n",
       "    'precision_score': 0.9929577464788732},\n",
       "   'other': {}}}]"
      ]
     },
     "execution_count": 7,
     "metadata": {},
     "output_type": "execute_result"
    }
   ],
   "source": [
    "from xgboost import XGBClassifier\n",
    "from trava.ext.boosting_eval.xgboost_logic import XGBoostEvalLogic\n",
    "\n",
    "eval_logic = XGBoostEvalLogic(needs_plot=True,\n",
    "                              eval_metric='logloss',\n",
    "                              early_stopping_rounds=eval_rounds)\n",
    "fit_predictor = FitPredictor(steps=EvalFitSteps(eval_logic=eval_logic))\n",
    "trava.fit_predict(raw_split_data=split_result,\n",
    "                  model_id='xgb',\n",
    "                  model_type=XGBClassifier,\n",
    "                  fit_predictor=fit_predictor)"
   ]
  },
  {
   "cell_type": "code",
   "execution_count": 8,
   "metadata": {},
   "outputs": [
    {
     "name": "stdout",
     "output_type": "stream",
     "text": [
      "[1]\ttraining's binary_logloss: 0.579804\tvalid_1's binary_logloss: 0.5771\n",
      "Training until validation scores don't improve for 3 rounds\n",
      "[2]\ttraining's binary_logloss: 0.514641\tvalid_1's binary_logloss: 0.523281\n",
      "[3]\ttraining's binary_logloss: 0.462581\tvalid_1's binary_logloss: 0.481026\n",
      "[4]\ttraining's binary_logloss: 0.417138\tvalid_1's binary_logloss: 0.443183\n",
      "[5]\ttraining's binary_logloss: 0.378549\tvalid_1's binary_logloss: 0.411846\n",
      "[6]\ttraining's binary_logloss: 0.344074\tvalid_1's binary_logloss: 0.382775\n",
      "[7]\ttraining's binary_logloss: 0.314902\tvalid_1's binary_logloss: 0.359247\n",
      "[8]\ttraining's binary_logloss: 0.288319\tvalid_1's binary_logloss: 0.339227\n",
      "[9]\ttraining's binary_logloss: 0.26567\tvalid_1's binary_logloss: 0.321304\n",
      "[10]\ttraining's binary_logloss: 0.244611\tvalid_1's binary_logloss: 0.304585\n",
      "[11]\ttraining's binary_logloss: 0.226963\tvalid_1's binary_logloss: 0.291143\n",
      "[12]\ttraining's binary_logloss: 0.208355\tvalid_1's binary_logloss: 0.276379\n",
      "[13]\ttraining's binary_logloss: 0.192218\tvalid_1's binary_logloss: 0.265442\n",
      "[14]\ttraining's binary_logloss: 0.178295\tvalid_1's binary_logloss: 0.25461\n",
      "[15]\ttraining's binary_logloss: 0.165034\tvalid_1's binary_logloss: 0.246265\n",
      "[16]\ttraining's binary_logloss: 0.153358\tvalid_1's binary_logloss: 0.238885\n",
      "[17]\ttraining's binary_logloss: 0.141464\tvalid_1's binary_logloss: 0.232005\n",
      "[18]\ttraining's binary_logloss: 0.132053\tvalid_1's binary_logloss: 0.22716\n",
      "[19]\ttraining's binary_logloss: 0.123951\tvalid_1's binary_logloss: 0.221782\n",
      "[20]\ttraining's binary_logloss: 0.115854\tvalid_1's binary_logloss: 0.218317\n",
      "[21]\ttraining's binary_logloss: 0.10753\tvalid_1's binary_logloss: 0.21309\n",
      "[22]\ttraining's binary_logloss: 0.0997466\tvalid_1's binary_logloss: 0.208492\n",
      "[23]\ttraining's binary_logloss: 0.0936331\tvalid_1's binary_logloss: 0.203834\n",
      "[24]\ttraining's binary_logloss: 0.086729\tvalid_1's binary_logloss: 0.198335\n",
      "[25]\ttraining's binary_logloss: 0.0805552\tvalid_1's binary_logloss: 0.196521\n",
      "[26]\ttraining's binary_logloss: 0.0740723\tvalid_1's binary_logloss: 0.195133\n",
      "[27]\ttraining's binary_logloss: 0.0683619\tvalid_1's binary_logloss: 0.194485\n",
      "[28]\ttraining's binary_logloss: 0.0631989\tvalid_1's binary_logloss: 0.191983\n",
      "[29]\ttraining's binary_logloss: 0.0589038\tvalid_1's binary_logloss: 0.190375\n",
      "[30]\ttraining's binary_logloss: 0.0549769\tvalid_1's binary_logloss: 0.186919\n",
      "[31]\ttraining's binary_logloss: 0.0508725\tvalid_1's binary_logloss: 0.187834\n",
      "[32]\ttraining's binary_logloss: 0.0475894\tvalid_1's binary_logloss: 0.187056\n",
      "[33]\ttraining's binary_logloss: 0.0444701\tvalid_1's binary_logloss: 0.186248\n",
      "[34]\ttraining's binary_logloss: 0.0413931\tvalid_1's binary_logloss: 0.187445\n",
      "[35]\ttraining's binary_logloss: 0.0390001\tvalid_1's binary_logloss: 0.186851\n",
      "[36]\ttraining's binary_logloss: 0.0362858\tvalid_1's binary_logloss: 0.187814\n",
      "Early stopping, best iteration is:\n",
      "[33]\ttraining's binary_logloss: 0.0444701\tvalid_1's binary_logloss: 0.186248\n"
     ]
    },
    {
     "data": {
      "image/png": "[encoded data removed]",
      "text/plain": [
       "<Figure size 432x288 with 1 Axes>"
      ]
     },
     "metadata": {
      "needs_background": "light"
     },
     "output_type": "display_data"
    },
    {
     "data": {
      "text/plain": [
       "[{'lgb': {'test': {'log_loss': 0.05128542198295308,\n",
       "    'roc_auc_score': 0.9997540277948592,\n",
       "    'recall_score': 1.0,\n",
       "    'precision_score': 0.9929577464788732},\n",
       "   'other': {}}}]"
      ]
     },
     "execution_count": 8,
     "metadata": {},
     "output_type": "execute_result"
    }
   ],
   "source": [
    "from lightgbm import LGBMClassifier\n",
    "from trava.ext.boosting_eval.lightgbm_logic import LightGBMEvalLogic\n",
    "\n",
    "eval_logic = LightGBMEvalLogic(needs_plot=True,\n",
    "                               eval_metric='logloss',\n",
    "                               early_stopping_rounds=eval_rounds)\n",
    "\n",
    "fit_predictor = FitPredictor(steps=EvalFitSteps(eval_logic=eval_logic))\n",
    "trava.fit_predict(raw_split_data=split_result,\n",
    "                  model_id='lgb',\n",
    "                  model_type=LGBMClassifier,\n",
    "                  fit_predictor=fit_predictor)"
   ]
  },
  {
   "cell_type": "code",
   "execution_count": 9,
   "metadata": {},
   "outputs": [
    {
     "name": "stdout",
     "output_type": "stream",
     "text": [
      "Learning rate set to 0.025239\n",
      "0:\tlearn: 0.6451243\ttest: 0.6515092\tbest: 0.6515092 (0)\ttotal: 59.7ms\tremaining: 59.6s\n",
      "1:\tlearn: 0.6077809\ttest: 0.6204071\tbest: 0.6204071 (1)\ttotal: 61.2ms\tremaining: 30.5s\n",
      "2:\tlearn: 0.5714471\ttest: 0.5883413\tbest: 0.5883413 (2)\ttotal: 63ms\tremaining: 20.9s\n",
      "3:\tlearn: 0.5409571\ttest: 0.5633864\tbest: 0.5633864 (3)\ttotal: 64.3ms\tremaining: 16s\n",
      "4:\tlearn: 0.5126726\ttest: 0.5374417\tbest: 0.5374417 (4)\ttotal: 65.6ms\tremaining: 13.1s\n",
      "5:\tlearn: 0.4844944\ttest: 0.5154268\tbest: 0.5154268 (5)\ttotal: 67.2ms\tremaining: 11.1s\n",
      "6:\tlearn: 0.4534618\ttest: 0.4893589\tbest: 0.4893589 (6)\ttotal: 68.5ms\tremaining: 9.72s\n",
      "7:\tlearn: 0.4306828\ttest: 0.4702041\tbest: 0.4702041 (7)\ttotal: 69.8ms\tremaining: 8.65s\n",
      "8:\tlearn: 0.4028827\ttest: 0.4456942\tbest: 0.4456942 (8)\ttotal: 71.2ms\tremaining: 7.84s\n",
      "9:\tlearn: 0.3830713\ttest: 0.4292426\tbest: 0.4292426 (9)\ttotal: 72.6ms\tremaining: 7.19s\n",
      "10:\tlearn: 0.3635213\ttest: 0.4148210\tbest: 0.4148210 (10)\ttotal: 73.9ms\tremaining: 6.65s\n",
      "11:\tlearn: 0.3442584\ttest: 0.3977335\tbest: 0.3977335 (11)\ttotal: 75.2ms\tremaining: 6.19s\n",
      "12:\tlearn: 0.3294880\ttest: 0.3841945\tbest: 0.3841945 (12)\ttotal: 76.5ms\tremaining: 5.81s\n",
      "13:\tlearn: 0.3146556\ttest: 0.3723009\tbest: 0.3723009 (13)\ttotal: 77.8ms\tremaining: 5.48s\n",
      "14:\tlearn: 0.3005400\ttest: 0.3604345\tbest: 0.3604345 (14)\ttotal: 79.2ms\tremaining: 5.2s\n",
      "15:\tlearn: 0.2865279\ttest: 0.3491119\tbest: 0.3491119 (15)\ttotal: 80.5ms\tremaining: 4.95s\n",
      "16:\tlearn: 0.2758920\ttest: 0.3398075\tbest: 0.3398075 (16)\ttotal: 81.7ms\tremaining: 4.72s\n",
      "17:\tlearn: 0.2635462\ttest: 0.3290919\tbest: 0.3290919 (17)\ttotal: 83.1ms\tremaining: 4.54s\n",
      "18:\tlearn: 0.2525243\ttest: 0.3183422\tbest: 0.3183422 (18)\ttotal: 84.3ms\tremaining: 4.36s\n",
      "19:\tlearn: 0.2415841\ttest: 0.3084393\tbest: 0.3084393 (19)\ttotal: 85.8ms\tremaining: 4.2s\n",
      "20:\tlearn: 0.2344415\ttest: 0.3017559\tbest: 0.3017559 (20)\ttotal: 87.2ms\tremaining: 4.06s\n",
      "21:\tlearn: 0.2243296\ttest: 0.2925697\tbest: 0.2925697 (21)\ttotal: 88.5ms\tremaining: 3.94s\n",
      "22:\tlearn: 0.2123294\ttest: 0.2828956\tbest: 0.2828956 (22)\ttotal: 89.8ms\tremaining: 3.82s\n",
      "23:\tlearn: 0.2034033\ttest: 0.2764680\tbest: 0.2764680 (23)\ttotal: 91.1ms\tremaining: 3.71s\n",
      "24:\tlearn: 0.1948992\ttest: 0.2700218\tbest: 0.2700218 (24)\ttotal: 92.6ms\tremaining: 3.61s\n",
      "25:\tlearn: 0.1872956\ttest: 0.2626998\tbest: 0.2626998 (25)\ttotal: 94.1ms\tremaining: 3.52s\n",
      "26:\tlearn: 0.1806143\ttest: 0.2578529\tbest: 0.2578529 (26)\ttotal: 95.5ms\tremaining: 3.44s\n",
      "27:\tlearn: 0.1744839\ttest: 0.2537895\tbest: 0.2537895 (27)\ttotal: 96.9ms\tremaining: 3.36s\n",
      "28:\tlearn: 0.1681654\ttest: 0.2490173\tbest: 0.2490173 (28)\ttotal: 98.2ms\tremaining: 3.29s\n",
      "29:\tlearn: 0.1608520\ttest: 0.2430750\tbest: 0.2430750 (29)\ttotal: 99.4ms\tremaining: 3.21s\n",
      "30:\tlearn: 0.1546325\ttest: 0.2389176\tbest: 0.2389176 (30)\ttotal: 101ms\tremaining: 3.15s\n",
      "31:\tlearn: 0.1495790\ttest: 0.2360848\tbest: 0.2360848 (31)\ttotal: 102ms\tremaining: 3.09s\n",
      "32:\tlearn: 0.1454524\ttest: 0.2334228\tbest: 0.2334228 (32)\ttotal: 104ms\tremaining: 3.04s\n",
      "33:\tlearn: 0.1409473\ttest: 0.2310286\tbest: 0.2310286 (33)\ttotal: 105ms\tremaining: 2.99s\n",
      "34:\tlearn: 0.1364621\ttest: 0.2261719\tbest: 0.2261719 (34)\ttotal: 107ms\tremaining: 2.94s\n",
      "35:\tlearn: 0.1331663\ttest: 0.2239693\tbest: 0.2239693 (35)\ttotal: 108ms\tremaining: 2.89s\n",
      "36:\tlearn: 0.1280975\ttest: 0.2201836\tbest: 0.2201836 (36)\ttotal: 109ms\tremaining: 2.84s\n",
      "37:\tlearn: 0.1231766\ttest: 0.2170345\tbest: 0.2170345 (37)\ttotal: 110ms\tremaining: 2.8s\n",
      "38:\tlearn: 0.1188374\ttest: 0.2144145\tbest: 0.2144145 (38)\ttotal: 112ms\tremaining: 2.75s\n",
      "39:\tlearn: 0.1156161\ttest: 0.2142720\tbest: 0.2142720 (39)\ttotal: 113ms\tremaining: 2.72s\n",
      "40:\tlearn: 0.1125757\ttest: 0.2116499\tbest: 0.2116499 (40)\ttotal: 115ms\tremaining: 2.68s\n",
      "41:\tlearn: 0.1101424\ttest: 0.2103384\tbest: 0.2103384 (41)\ttotal: 116ms\tremaining: 2.65s\n",
      "42:\tlearn: 0.1065342\ttest: 0.2084025\tbest: 0.2084025 (42)\ttotal: 117ms\tremaining: 2.61s\n",
      "43:\tlearn: 0.1027972\ttest: 0.2057481\tbest: 0.2057481 (43)\ttotal: 119ms\tremaining: 2.58s\n",
      "44:\tlearn: 0.1005404\ttest: 0.2050006\tbest: 0.2050006 (44)\ttotal: 120ms\tremaining: 2.56s\n",
      "45:\tlearn: 0.0973433\ttest: 0.2022632\tbest: 0.2022632 (45)\ttotal: 122ms\tremaining: 2.53s\n",
      "46:\tlearn: 0.0941295\ttest: 0.1994126\tbest: 0.1994126 (46)\ttotal: 123ms\tremaining: 2.5s\n",
      "47:\tlearn: 0.0913679\ttest: 0.1975610\tbest: 0.1975610 (47)\ttotal: 125ms\tremaining: 2.48s\n",
      "48:\tlearn: 0.0890402\ttest: 0.1954352\tbest: 0.1954352 (48)\ttotal: 126ms\tremaining: 2.45s\n",
      "49:\tlearn: 0.0868750\ttest: 0.1942127\tbest: 0.1942127 (49)\ttotal: 128ms\tremaining: 2.43s\n",
      "50:\tlearn: 0.0846232\ttest: 0.1932859\tbest: 0.1932859 (50)\ttotal: 129ms\tremaining: 2.4s\n",
      "51:\tlearn: 0.0821815\ttest: 0.1914882\tbest: 0.1914882 (51)\ttotal: 130ms\tremaining: 2.38s\n",
      "52:\tlearn: 0.0793058\ttest: 0.1898417\tbest: 0.1898417 (52)\ttotal: 132ms\tremaining: 2.35s\n",
      "53:\tlearn: 0.0778257\ttest: 0.1887231\tbest: 0.1887231 (53)\ttotal: 133ms\tremaining: 2.33s\n",
      "54:\tlearn: 0.0762489\ttest: 0.1870896\tbest: 0.1870896 (54)\ttotal: 134ms\tremaining: 2.31s\n",
      "55:\tlearn: 0.0744397\ttest: 0.1862318\tbest: 0.1862318 (55)\ttotal: 136ms\tremaining: 2.28s\n",
      "56:\tlearn: 0.0731629\ttest: 0.1857330\tbest: 0.1857330 (56)\ttotal: 137ms\tremaining: 2.26s\n",
      "57:\tlearn: 0.0715600\ttest: 0.1845418\tbest: 0.1845418 (57)\ttotal: 138ms\tremaining: 2.24s\n",
      "58:\tlearn: 0.0700034\ttest: 0.1840120\tbest: 0.1840120 (58)\ttotal: 139ms\tremaining: 2.22s\n",
      "59:\tlearn: 0.0686369\ttest: 0.1833854\tbest: 0.1833854 (59)\ttotal: 141ms\tremaining: 2.2s\n",
      "60:\tlearn: 0.0671002\ttest: 0.1822438\tbest: 0.1822438 (60)\ttotal: 142ms\tremaining: 2.18s\n",
      "61:\tlearn: 0.0652547\ttest: 0.1800553\tbest: 0.1800553 (61)\ttotal: 144ms\tremaining: 2.18s\n",
      "62:\tlearn: 0.0639340\ttest: 0.1789970\tbest: 0.1789970 (62)\ttotal: 145ms\tremaining: 2.16s\n",
      "63:\tlearn: 0.0626691\ttest: 0.1783004\tbest: 0.1783004 (63)\ttotal: 147ms\tremaining: 2.15s\n",
      "64:\tlearn: 0.0612047\ttest: 0.1781206\tbest: 0.1781206 (64)\ttotal: 148ms\tremaining: 2.13s\n",
      "65:\tlearn: 0.0600482\ttest: 0.1776575\tbest: 0.1776575 (65)\ttotal: 149ms\tremaining: 2.11s\n",
      "66:\tlearn: 0.0589336\ttest: 0.1770713\tbest: 0.1770713 (66)\ttotal: 151ms\tremaining: 2.1s\n",
      "67:\tlearn: 0.0575421\ttest: 0.1772809\tbest: 0.1770713 (66)\ttotal: 152ms\tremaining: 2.08s\n",
      "68:\tlearn: 0.0565995\ttest: 0.1772690\tbest: 0.1770713 (66)\ttotal: 153ms\tremaining: 2.07s\n",
      "69:\tlearn: 0.0556113\ttest: 0.1772032\tbest: 0.1770713 (66)\ttotal: 155ms\tremaining: 2.05s\n",
      "Stopped by overfitting detector  (3 iterations wait)\n",
      "\n",
      "bestTest = 0.1770712542\n",
      "bestIteration = 66\n",
      "\n",
      "Shrink model to first 67 iterations.\n"
     ]
    },
    {
     "data": {
      "image/png": "[encoded data removed]",
      "text/plain": [
       "<Figure size 432x288 with 1 Axes>"
      ]
     },
     "metadata": {
      "needs_background": "light"
     },
     "output_type": "display_data"
    },
    {
     "data": {
      "text/plain": [
       "[{'cat': {'test': {'log_loss': 0.06251236339898839,\n",
       "    'roc_auc_score': 0.9998770138974296,\n",
       "    'recall_score': 1.0,\n",
       "    'precision_score': 0.9929577464788732},\n",
       "   'other': {}}}]"
      ]
     },
     "execution_count": 9,
     "metadata": {},
     "output_type": "execute_result"
    }
   ],
   "source": [
    "from trava.ext.boosting_eval.catboost_logic import CatBoostEvalLogic\n",
    "from catboost import CatBoostClassifier\n",
    "\n",
    "eval_logic = CatBoostEvalLogic(needs_plot=True,\n",
    "                               early_stopping_rounds=eval_rounds)\n",
    "\n",
    "fit_predictor = FitPredictor(steps=EvalFitSteps(eval_logic=eval_logic))\n",
    "trava.fit_predict(raw_split_data=split_result,\n",
    "                  model_id='cat',\n",
    "                  model_type=CatBoostClassifier,\n",
    "                  model_init_params={'eval_metric': 'Logloss'},\n",
    "                  fit_predictor=fit_predictor)"
   ]
  },
  {
   "cell_type": "code",
   "execution_count": 10,
   "metadata": {},
   "outputs": [
    {
     "data": {
      "text/plain": [
       "[{'xgb': {'test': {'log_loss': 0.046362519260127466,\n",
       "    'roc_auc_score': 0.9995080555897184,\n",
       "    'recall_score': 1.0,\n",
       "    'precision_score': 0.9929577464788732},\n",
       "   'other': {}},\n",
       "  'lgb': {'test': {'log_loss': 0.05128542198295308,\n",
       "    'roc_auc_score': 0.9997540277948592,\n",
       "    'recall_score': 1.0,\n",
       "    'precision_score': 0.9929577464788732},\n",
       "   'other': {}},\n",
       "  'cat': {'test': {'log_loss': 0.06251236339898839,\n",
       "    'roc_auc_score': 0.9998770138974296,\n",
       "    'recall_score': 1.0,\n",
       "    'precision_score': 0.9929577464788732},\n",
       "   'other': {}}}]"
      ]
     },
     "execution_count": 10,
     "metadata": {},
     "output_type": "execute_result"
    }
   ],
   "source": [
    "trava.results"
   ]
  }
 ],
 "metadata": {
  "kernelspec": {
   "display_name": "Python 3",
   "language": "python",
   "name": "python3"
  },
  "language_info": {
   "codemirror_mode": {
    "name": "ipython",
    "version": 3
   },
   "file_extension": ".py",
   "mimetype": "text/x-python",
   "name": "python",
   "nbconvert_exporter": "python",
   "pygments_lexer": "ipython3",
   "version": "3.7.3"
  }
 },
 "nbformat": 4,
 "nbformat_minor": 2
}
